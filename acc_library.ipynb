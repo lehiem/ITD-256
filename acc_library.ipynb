{
 "cells": [
  {
   "cell_type": "markdown",
   "metadata": {},
   "source": [
    "### Organization \n",
    "Fiction and nonfiction\n",
    "Then author last name  \n",
    "\n",
    "Fiction genre sections *depends on library \n",
    "Romance \n",
    "Mystery \n",
    "Graphic novel \n",
    "Anime \n",
    "Picture books \n",
    "Easy reader \n",
    "Classic \n",
    "\n",
    "\n",
    "Dewey decimal system but pull out some subjects like yorktown \n",
    "Makes it easier to pull out the books you need \n",
    "\n",
    "Library of Congress subject headings in college libraries\n",
    "\n",
    "Varies between the library \n",
    "\n",
    "\n",
    "### How to find new things to add?\n",
    "Little to know to no non fiction \n",
    "Started as a free library \n",
    "Follet destiny title wave \n",
    "Best new titles for certain age group \n",
    "Talking to students about what they want\n",
    "The recommendation for this library are from students so it’s mostly fiction \n",
    "Add more curriculum focused books in the building when they expand in the new school \n",
    "\n",
    "*pay attention to the amount of books in the other library \n",
    "Add less books to a shelf to make it less intimidating\n",
    "\n",
    "\n"
   ]
  },
  {
   "cell_type": "markdown",
   "metadata": {},
   "source": [
    "### Book Information \n",
    "Currently have 5 books per students when it should be around 15 per student but there is work in progress \n",
    "\n",
    "Anything they don’t have here they can get from other libraries \n",
    "\n",
    "~2300 books   \n",
    "Overflow space for the books \n",
    "Follet always the librarians to get data about the library \n",
    "They use this to weed out the collection \n",
    "\n",
    "### What does returns look like?\n",
    "Brown box on the desk \n",
    "3 weeks and bring back to the brown box \n",
    "Hand it back to the librarian \n",
    "Put them back as you get them \n",
    "Using all the carts as shelving currently \n",
    "\n",
    "Gifted books from other libraries \n",
    "\n",
    "### Off site storage is on a shelf in a office space \n",
    "Not as popular but still want to keep them \n",
    "Makes space for new things \n",
    "Mostly non fiction \n",
    "They are said as here \n",
    "\n",
    "Missing books/lost book is a big problem and leads to shrinkage \n",
    "Library \n"
   ]
  }
 ],
 "metadata": {
  "language_info": {
   "name": "python"
  }
 },
 "nbformat": 4,
 "nbformat_minor": 2
}
