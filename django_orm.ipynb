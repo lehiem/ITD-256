{
 "cells": [
  {
   "cell_type": "markdown",
   "metadata": {},
   "source": [
    "## Use the Index, Django!"
   ]
  },
  {
   "cell_type": "markdown",
   "metadata": {},
   "source": [
    "### Two Indexs \n",
    "\n",
    "The two indexes are the regular index and the _like index. The regular index works by going through the data and reordering it and looking up specific data points. An _like index is used to find substrings of a data point, this is when the data point contains a certain value. This is often used where using LIKE where there could be multiple data points containing the same thing. \n",
    "\n",
    "\n"
   ]
  },
  {
   "cell_type": "markdown",
   "metadata": {},
   "source": [
    "### _iexact vs non _iexact (query plans)\n",
    "\n",
    "\n",
    "\n",
    "![alt text](query_plan_1.png \"Title\")\n",
    "\n",
    "\n"
   ]
  },
  {
   "cell_type": "markdown",
   "metadata": {},
   "source": [
    "![alt text](query_plan_2.png \"Title\")"
   ]
  },
  {
   "cell_type": "markdown",
   "metadata": {},
   "source": [
    "#### The top image is a query plan uses _iexact because it is looking for any data point that has Andrew anywhere in the name which means it is case insensative so it uses the _like index. The bottom image is looking for only Andrew and it is case sensative so it uses the other index. "
   ]
  },
  {
   "cell_type": "markdown",
   "metadata": {},
   "source": [
    "### _iexact and regular index graph\n",
    "\n",
    "\n",
    "![alt text](orm_graph.png \"Title\")"
   ]
  },
  {
   "cell_type": "markdown",
   "metadata": {},
   "source": [
    "#### This graph is comparing the time it took to run the query using _iexact and not using _iexact and the bigger the dataset gets the more you can see that not using _iexact is significantly faster than using _iexact."
   ]
  },
  {
   "cell_type": "markdown",
   "metadata": {},
   "source": [
    "### What additional warnings would you give to Django developers who are considering using the __iexact feature in their ORM code?\n",
    "\n",
    "\n",
    "I would warn them that _iexact may seem helpful but because it is not case-sensitive it may give you more results than you want and it will take longer. They both yield the same results but one is significantly faster because it is case-sensitive. It is important to understand how to write your query because there are many different ways to get the same answer but some are more efficient and faster than others.\n",
    "\n"
   ]
  }
 ],
 "metadata": {
  "language_info": {
   "name": "python"
  }
 },
 "nbformat": 4,
 "nbformat_minor": 2
}
