{
 "cells": [
  {
   "cell_type": "markdown",
   "metadata": {},
   "source": [
    "# Case-Insensitive Search Using UPPER or LOWER\n",
    "- You can ingrown the case sensitivity by adding UPPER to the query \n",
    "    - Gives you all results without care of uppercase or lowercase letters\n",
    "\n",
    "- This makes the query have to use a full table scan instead of using the index because the search would be on the UPPER of whatever the index is on instead of the regular one \n",
    "    - For example the index is on LAST_NAME not UPPER(LAST_NAME)\n",
    "\n",
    "- You fix this by building an index on UPPER(LAST_NAME), a function based index (FBI)\n",
    "    - The index would store all names in all caps \n",
    "\n",
    "*check the optimizer estimates because it can indicate problems with the index *important for PostgreSQL\n",
    "\n",
    "“Always check the execution plan in case of doubt.”"
   ]
  }
 ],
 "metadata": {
  "language_info": {
   "name": "python"
  }
 },
 "nbformat": 4,
 "nbformat_minor": 2
}
