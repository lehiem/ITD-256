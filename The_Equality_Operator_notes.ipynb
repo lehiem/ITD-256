{
 "cells": [
  {
   "cell_type": "markdown",
   "metadata": {},
   "source": [
    "# The Equality Operator"
   ]
  },
  {
   "cell_type": "markdown",
   "metadata": {},
   "source": [
    "## Primary Keys\n",
    "\n",
    "When you look something up using just the primary key you don't need to use anything but the index, hence an index scan\n",
    "- INDEX UNIQUE SCAN—the operation that only traverses the index tree\n",
    "\n",
    "\n",
    "After finding the primary key there is sometimes still information that needs to be found which is the TABLE ACCESS BY INDEX ROWID operation.\n",
    "\n",
    "\n",
    "With an INDEX UNIQUE SCAN there is no risk that the query will result in more than one entry so it makes slow queries less probable\n"
   ]
  },
  {
   "cell_type": "markdown",
   "metadata": {},
   "source": [
    "## Concatenated Indexes\n",
    "\n",
    "A Concatenated Index is where an index is made from a primary key with multiple columns. \n",
    "- Column order matters for concatenated indexes\n",
    "\n",
    "If a qurrey doesn't use all columns in the concatenated index then you cannot do an INDEX UNIQUE SCAN, instead it will be a full table scan which takes more time\n",
    "\n",
    "A concatenated index is a B-Tree\n",
    "- the first column is the primary sort criterion \n",
    "- the second column determines the order only if two entries have the same value in the first column and so on\n",
    "\n",
    "INDEX RANGE SCAN - uses index and then follows leaf nodes to find entry\n",
    "- first get resuslts from index (index scan)\n",
    "- then sorts results and takes any releavnt ones (heap scan)\n",
    "\n",
    "For a concatenated index you must use the leftmost column when searching.\n",
    "\n",
    "- Understanding how indexes work is not enough; knowledge of how the application queries data is essential, knowing which column combinations appear in the WHERE clause is crucial for defining an optimal index.\n",
    "\n",
    "\n",
    "External consultants don't have an overview of the applications access path and have to focus on optimizing a single query rather than thinking about the ideal index for multiple queries\n",
    "\n",
    "\n",
    "Developers' Role is to: \n",
    "- have both technical database knowledge and functional business domain knowledge.\n",
    "- understand the access paths and can create indexes that optimize the application as a whole.\n",
    "     - Proper indexing by developers leads to better performance with minimal effort.\n"
   ]
  }
 ],
 "metadata": {
  "language_info": {
   "name": "python"
  }
 },
 "nbformat": 4,
 "nbformat_minor": 2
}
