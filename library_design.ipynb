{
 "cells": [
  {
   "cell_type": "markdown",
   "metadata": {},
   "source": [
    "# Arlington Career Center Library as a Database Project\n",
    "## By: Lehiem Seyoum and Miguel Vargas\n",
    "\n",
    "![alt text](acc_library.jpeg \"Title\")"
   ]
  },
  {
   "cell_type": "markdown",
   "metadata": {},
   "source": [
    "### Introduction\n",
    "\n",
    "\n",
    "Our class did tours of different libraries to see how libraries are related to databases, one library we toured was the Arlington Career Center Library. This is a newly established library that started off as a free library and has updated to a high school library. It is relatively small as well with fiction books on the left in the picture above and mainly non fiction in front of the librarians desk and the left. The objective of the project is to try to make changes to the library to make it better using our background in databases.\n"
   ]
  },
  {
   "cell_type": "markdown",
   "metadata": {},
   "source": [
    "\n",
    "\n",
    "## Overall Organization\n",
    "\n",
    "\n",
    "\n",
    "\n",
    "### How should the library organize its shelves?\n",
    "1. Split the library into fiction and nonfiction similar to the current set up\n",
    "2. Take out the books you don't see checked out often a concept in databases called Least Recently Used which says to make space for new information that information you should take out is the least recently used information\n",
    "3. 15 most popular books are put into a bucket labeled most popular for fiction and non-fiction, this concept would be a cache where the most accessed information is put in an easily accessible place because it needs to be used so often\n",
    "\n",
    "\n",
    "\n",
    "\n",
    "### Should it follow a traditional system (e.g., Dewey Decimal, Library of Congress) or adapt it?\n",
    "A change for the library is genrefying the fiction and keeping the non fiction as Dewey Decimal, this a concept called a primary key. The unique identifier for a book in fiction would have to be a combination of the title and the author's name and for non fiction it can be just the dewey decimal number because it is a unique identifier.\n",
    "\n",
    "\n",
    "### Should special categories (e.g., large print, themed displays) be handled differently?\n",
    "The theme displays are handled well, genrefying the fiction could make the theme displays out. Themed displays are an example of a view in database terms, a view is just taking out information from a database to make it easier to look at it.\n",
    "\n",
    "\n"
   ]
  },
  {
   "cell_type": "markdown",
   "metadata": {},
   "source": [
    "## Retrieval & Discovery\n"
   ]
  },
  {
   "cell_type": "markdown",
   "metadata": {},
   "source": [
    "\n",
    "### How should users find books?\n",
    "- Genrefication, changing the fiction section to be genrefying will make it easier to find a book for students. *find a comparison that matches\n",
    "- Searching the online database to know if it is available and discovering a new book if you want, maybe a suggestion we have seen at other libraries where they have a device that lets people search the catalog at the library like an iPad or a computer. This would be a query in database terms as a query is just asking for specific information from a database similar to just searching a database\n",
    "- There should be labels for the genre sections for where the start and end to make it easier for students to find the books they want\n",
    "- The user can check the pulled out section or the popular books section\n",
    "\n",
    "\n",
    "\n",
    "\n",
    "### What happens when many people want the same book?\n",
    "-  When there is a book that isn't available in the library then the library can use the other libraries in the APS or Arlington Public Library system. This is similar to a join in databases, a join can connect different databases/tables on a common key.\n",
    "\n",
    "\n",
    "\n",
    "\n",
    "### Should the library prioritize ease of retrieval or discovery of new books?\n",
    "- Discovery of new books should be prioritized because there aren’t that many books compared to other libraries we have observed so retrieving books would be easier. Focusing on discovering new books would be most productive because it will make the library better. It will help the library grow because it will help the library get books the students are interested in, especially because it's a newer library.\n"
   ]
  },
  {
   "cell_type": "markdown",
   "metadata": {},
   "source": [
    "## Return Process\n",
    "\n",
    "### Outline an efficient return system from the user back to the shelves.\n",
    "\n",
    "1. Having a fiction and nonfiction return bucket allows for quicker shelving because the books are already sorted by the area in which they will go back. \n",
    "2. Because not that many books are returned, reshelving one by one is most often the quickest sorting method. In computer science, this type of sorting process is called a selection sort.\n",
    "\n",
    "\n",
    "### Consider collection points, reshelving frequency, and error handling (e.g., misplaced books).\n",
    "1. Having a fiction and nonfiction return bucket allows for quicker shelving. This follows the database concept of having 2 separate tables be connected to 1.\n",
    "2. Another collection point at the school entrance might encourage more students to return their books even if they haven’t gone to the library.\n",
    "3. Due to the smaller volume of books, an inventory check could be done once a quarter to ensure that all the books are in the right place. In databases, ensuring that the information follows a certain rulebook is called normal form. \n",
    "\n",
    "\n",
    "### Are there ever situations where the library might switch strategies (eg if a book returns triple during exam season?)\n",
    "1. If there's a time where returns increase, the popular books section could be increased in size in order to make reshelving more efficient. In computers, when there's more data to process it is usually recommended to have bigger storage space with more tiers inside of the allocated storage space.\n"
   ]
  }
 ],
 "metadata": {
  "language_info": {
   "name": "python"
  }
 },
 "nbformat": 4,
 "nbformat_minor": 2
}
